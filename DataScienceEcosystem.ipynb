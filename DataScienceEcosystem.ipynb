{
 "cells": [
  {
   "cell_type": "markdown",
   "id": "edabd404-62e7-4f65-ab7c-0e461a529659",
   "metadata": {},
   "source": [
    "# Data Science Tools and Ecosystem\n"
   ]
  },
  {
   "cell_type": "code",
   "execution_count": null,
   "id": "11ae1f44-954d-4e75-bf60-bbbbf20cc410",
   "metadata": {},
   "outputs": [],
   "source": []
  },
  {
   "cell_type": "markdown",
   "id": "476559b8-ea30-469e-af32-c1c04e93f673",
   "metadata": {},
   "source": [
    "In this notebook, Data Science Tools and Ecosystem are summarized."
   ]
  },
  {
   "cell_type": "markdown",
   "id": "1d3b405a-a0fd-43ba-98dc-9c358f999bf6",
   "metadata": {},
   "source": [
    "**Objectives:**  \n",
    "- Перелічити популярні мови для Data Science  \n",
    "- Перелічити основні бібліотеки для Data Science  \n",
    "- Ознайомитися з інструментами для роботи в Data Science  \n",
    "- Навчитися виконувати арифметичні обчислення в Python  \n"
   ]
  },
  {
   "cell_type": "markdown",
   "id": "717e4e5b-136d-4cc3-99b0-7237ca408abf",
   "metadata": {},
   "source": [
    "Деякі з популярних мов, які використовують Data Scientists, це:  \n",
    "1. Python  \n",
    "2. R  \n",
    "3. SQL  \n"
   ]
  },
  {
   "cell_type": "markdown",
   "id": "40147306-3baf-419d-ae85-18f584e6b078",
   "metadata": {},
   "source": [
    "Деякі з найбільш використовуваних бібліотек у Data Science:  \n",
    "1. Pandas  \n",
    "2. NumPy  \n",
    "3. Scikit-learn"
   ]
  },
  {
   "cell_type": "markdown",
   "id": "d81b7acd-1328-43e8-b651-5db1332b82f3",
   "metadata": {},
   "source": [
    "| Data Science Tools |  \n",
    "|--------------------|  \n",
    "| Jupyter Notebook   |  \n",
    "| RStudio            |  \n",
    "| VS Code            |  \n"
   ]
  },
  {
   "cell_type": "markdown",
   "id": "87bfa13b-f22e-46c2-95cc-c6103d6f8388",
   "metadata": {},
   "source": [
    "### Нижче наведені деякі приклади обчислення арифметичних виразів у Python.\n"
   ]
  },
  {
   "cell_type": "code",
   "execution_count": 7,
   "id": "1266370e-50be-41f2-9b73-dedba3b3093a",
   "metadata": {},
   "outputs": [
    {
     "data": {
      "text/plain": [
       "17"
      ]
     },
     "execution_count": 7,
     "metadata": {},
     "output_type": "execute_result"
    }
   ],
   "source": [
    "# Це простий арифметичний вираз для множення, а потім додавання цілих чисел\n",
    "(3 * 4) + 5\n"
   ]
  },
  {
   "cell_type": "code",
   "execution_count": 9,
   "id": "b7d95788-102a-4004-8e8b-69bae2ddbd37",
   "metadata": {},
   "outputs": [
    {
     "data": {
      "text/plain": [
       "3.3333333333333335"
      ]
     },
     "execution_count": 9,
     "metadata": {},
     "output_type": "execute_result"
    }
   ],
   "source": [
    "# Це перетворить 200 хвилин на години, розділивши на 60\n",
    "200 / 60\n"
   ]
  },
  {
   "cell_type": "markdown",
   "id": "a049f549-a2db-46a1-8079-92d043c48b89",
   "metadata": {},
   "source": [
    "## Author  \n",
    "Володимир  \n"
   ]
  },
  {
   "cell_type": "code",
   "execution_count": null,
   "id": "dc6ae45f-8fd2-43e8-b715-a6b6e48fb8c9",
   "metadata": {},
   "outputs": [],
   "source": []
  }
 ],
 "metadata": {
  "kernelspec": {
   "display_name": "Python [conda env:base] *",
   "language": "python",
   "name": "conda-base-py"
  },
  "language_info": {
   "codemirror_mode": {
    "name": "ipython",
    "version": 3
   },
   "file_extension": ".py",
   "mimetype": "text/x-python",
   "name": "python",
   "nbconvert_exporter": "python",
   "pygments_lexer": "ipython3",
   "version": "3.12.7"
  }
 },
 "nbformat": 4,
 "nbformat_minor": 5
}
